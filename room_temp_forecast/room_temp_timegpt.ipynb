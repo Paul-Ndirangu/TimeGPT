{
 "cells": [
  {
   "cell_type": "code",
   "execution_count": 1,
   "metadata": {},
   "outputs": [],
   "source": [
    "from nixtlats import TimeGPT\n",
    "import pandas as pd\n",
    "import numpy as np"
   ]
  },
  {
   "cell_type": "code",
   "execution_count": 2,
   "metadata": {},
   "outputs": [],
   "source": [
    "timegpt = TimeGPT(\n",
    "    # defaults to os.environ.get(\"TIMEGPT_TOKEN\")\n",
    "    token = 'token_provided_by_nixtla'\n",
    ")"
   ]
  },
  {
   "cell_type": "markdown",
   "metadata": {},
   "source": [
    "### Test the validate of your token calling the validate_token method:"
   ]
  },
  {
   "cell_type": "code",
   "execution_count": null,
   "metadata": {},
   "outputs": [],
   "source": [
    "timegpt.validate_token()"
   ]
  },
  {
   "cell_type": "markdown",
   "metadata": {},
   "source": [
    "Now we can start making forecasts! Let’s import an example on the [Time Series Room Temperature Data](https://www.kaggle.com/datasets/vitthalmadane/ts-temp-1) dataset. Dataset is generated with help of an IOT Device data represents room air temperature values with respect time. First, let’s load the dataset and plot it:"
   ]
  },
  {
   "cell_type": "code",
   "execution_count": null,
   "metadata": {},
   "outputs": [],
   "source": [
    "df = pd.read_csv(\"data/MLTempDataset.csv\")\n",
    "df.head()"
   ]
  },
  {
   "cell_type": "code",
   "execution_count": null,
   "metadata": {},
   "outputs": [],
   "source": [
    "timegpt.plot(df, time_col='Datetime', target_col='DAYTON_MW')"
   ]
  },
  {
   "cell_type": "markdown",
   "metadata": {},
   "source": [
    "> Important requirements of the data\n",
    "\n",
    "1. Make sure the target variable column does not have missing or non-numeric values.\n",
    "2. Do not include gaps/jumps in the datestamps (for the given frequency) between the first and late datestamps. The forecast function will not impute missing dates.\n",
    "3. The format of the datestamp column should be readable by Pandas [see this link for more details](https://pandas.pydata.org/docs/reference/api/pandas.to_datetime.html).\n",
    "    \n",
    "> Next, forecast the next 12 months using the SDK forecast method. Set the following parameters:\n",
    "* df: A pandas dataframe containing the time series data.\n",
    "* h: The number of steps ahead to forecast.\n",
    "* freq: The frequency of the time series in Pandas format. See [pandas’ available frequencies](https://pandas.pydata.org/pandas-docs/stable/user_guide/timeseries.html#offset-aliases).\n",
    "* time_col: Column that identifies the datestamp column.\n",
    "* target_col: The variable that we want to forecast.\n",
    "\n"
   ]
  },
  {
   "cell_type": "code",
   "execution_count": null,
   "metadata": {},
   "outputs": [],
   "source": [
    "timegpt_fcst_df = timegpt.forecast(df=df, h=12, freq='MS', time_col='datetime', target_col='DAYTON_MW')\n",
    "timegpt_fcst_df.head()"
   ]
  },
  {
   "cell_type": "code",
   "execution_count": null,
   "metadata": {},
   "outputs": [],
   "source": [
    "\n",
    "timegpt.plot(df, timegpt_fcst_df, time_col='datetime', target_col='DAYTON_MW')"
   ]
  },
  {
   "cell_type": "code",
   "execution_count": null,
   "metadata": {},
   "outputs": [],
   "source": [
    "timegpt_fcst_df = timegpt.forecast(df=df, h=36, time_col='datetime', target_col='DAYTON_MW', freq='MS')\n",
    "timegpt_fcst_df.head()"
   ]
  },
  {
   "cell_type": "code",
   "execution_count": null,
   "metadata": {},
   "outputs": [],
   "source": [
    "\n",
    "timegpt.plot(df, timegpt_fcst_df, time_col='datetime', target_col='DAYTON_MW')"
   ]
  },
  {
   "cell_type": "markdown",
   "metadata": {},
   "source": [
    "Or a shorter one:"
   ]
  },
  {
   "cell_type": "code",
   "execution_count": null,
   "metadata": {},
   "outputs": [],
   "source": [
    "timegpt_fcst_df = timegpt.forecast(df=df, h=6, time_col='datetime', target_col='DAYTON_MW', freq='MS')\n",
    "timegpt.plot(df, timegpt_fcst_df, time_col='datetime', target_col='DAYTON_MW')\n"
   ]
  },
  {
   "cell_type": "markdown",
   "metadata": {},
   "source": [
    "**Warning**\n",
    "\n",
    "> TimeGPT-1 is currently optimized for short horizon forecasting. While\n",
    "the forecast mehtod will allow any positive and large horizon, the\n",
    "accuracy of the forecasts might degrade."
   ]
  },
  {
   "cell_type": "markdown",
   "metadata": {},
   "source": [
    "### Using DateTime index to infer frequency\n",
    "\n",
    "> The freq parameter, which indicates the time unit between consecutive data points, is particularly critical. Fortunately, you can pass a DataFrame with a DateTime index to the forecasting method, ensuring that your time series data is equipped with necessary temporal features. By assigning a suitable freq parameter to the DateTime index of a DataFrame, you inform the model about the consistent interval between observations — be it days (‘D’), months (‘M’), or another suitable frequency."
   ]
  },
  {
   "cell_type": "code",
   "execution_count": null,
   "metadata": {},
   "outputs": [],
   "source": [
    "df_time_index = df.set_index('datetime')\n",
    "df_time_index.index = pd.DatetimeIndex(df_time_index.index, freq='MS')\n",
    "timegpt.forecast(df=df, h=36, time_col='datetime', target_col='DAYTON_MW').head()"
   ]
  }
 ],
 "metadata": {
  "kernelspec": {
   "display_name": "venv",
   "language": "python",
   "name": "python3"
  },
  "language_info": {
   "codemirror_mode": {
    "name": "ipython",
    "version": 3
   },
   "file_extension": ".py",
   "mimetype": "text/x-python",
   "name": "python",
   "nbconvert_exporter": "python",
   "pygments_lexer": "ipython3",
   "version": "3.10.12"
  }
 },
 "nbformat": 4,
 "nbformat_minor": 2
}
